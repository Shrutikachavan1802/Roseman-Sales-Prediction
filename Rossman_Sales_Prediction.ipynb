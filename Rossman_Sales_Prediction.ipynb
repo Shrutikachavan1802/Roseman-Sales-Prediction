{
  "cells": [
    {
      "cell_type": "markdown",
      "id": "bd3655fb",
      "metadata": {
        "id": "bd3655fb"
      },
      "source": [
        "# Rossmann Sales Prediction\n",
        "### Forecast sales using store, promotion, and competitor data\n",
        "#### Before we start with our data exploration we have to understand the problem statement\n",
        "\n",
        "* Rossmann operates over 3,000 drug stores in 7 European countries.\n",
        "* Currently, Rossmann store managers are tasked with predicting their daily sales for up to six weeks in advance.\n",
        "* Store sales are influenced by many factors, including promotions, competition, school and state holidays, seasonality, and locality.\n",
        "* With thousands of individual managers predicting sales based on their unique circumstances, the accuracy of results can be quite varied.\n",
        "* We are provided with historical sales data for 1,115 Rossmann stores.\n",
        "#### The task here is to forecast the \"Sales\" column."
      ]
    },
    {
      "cell_type": "markdown",
      "id": "fba2fb41",
      "metadata": {
        "id": "fba2fb41"
      },
      "source": [
        "### Data fields\n",
        "* Id - an Id that represents a (Store, Date) duple within the test set\n",
        "* Store - a unique Id for each store\n",
        "* Sales - the turnover for any given day (this is what you are predicting)\n",
        "* Customers - the number of customers on a given day\n",
        "* Open - an indicator for whether the store was open: 0 = closed, 1 = open\n",
        "* StateHoliday - indicates a state holiday. Normally all stores, with few exceptions, are closed on state holidays. Note that all schools are closed on public holidays and weekends. a = public holiday, b = Easter holiday, c = Christmas, 0 = None\n",
        "* SchoolHoliday - indicates if the (Store, Date) was affected by the closure of public schools\n",
        "* StoreType - differentiates between 4 different store models: a, b, c, d\n",
        "* Assortment - describes an assortment level: a = basic, b = extra, c = extended\n",
        "* CompetitionDistance - distance in meters to the nearest competitor store\n",
        "* CompetitionOpenSince[Month/Year] - gives the approximate year and month of the time the nearest competitor was opened\n",
        "* Promo - indicates whether a store is running a promo on that day\n",
        "* Promo2 - Promo2 is a continuing and consecutive promotion for some stores: 0 = store is not participating, 1 = store is participating\n",
        "* Promo2Since[Year/Week] - describes the year and calendar week when the store started participating in Promo2\n",
        "* PromoInterval - describes the consecutive intervals Promo2 is started, naming the months the promotion is started anew. E.g. \"Feb,May,Aug,Nov\" means each round starts in February, May, August, November of any given year for that store"
      ]
    },
    {
      "cell_type": "markdown",
      "id": "738f3bc4",
      "metadata": {
        "id": "738f3bc4"
      },
      "source": [
        "# Data Importing"
      ]
    },
    {
      "cell_type": "markdown",
      "id": "a23be341",
      "metadata": {
        "id": "a23be341"
      },
      "source": [
        "### Before starting lets see how our data looks like and try to understand the variables which are present"
      ]
    },
    {
      "cell_type": "markdown",
      "id": "a3f63843",
      "metadata": {
        "id": "a3f63843"
      },
      "source": [
        "### Import basic libraries to perform operations in python\n",
        "* Import basic operational libraries\n",
        "* Import 2D visualization libraries\n",
        "* Import 3D visualization libraries"
      ]
    },
    {
      "cell_type": "code",
      "execution_count": null,
      "id": "4eeccf39",
      "metadata": {
        "id": "4eeccf39"
      },
      "outputs": [],
      "source": [
        "# Importing necessary basic libraries\n",
        "import numpy as np\n",
        "import pandas as pd\n",
        "import matplotlib.pyplot as plt\n",
        "import seaborn as sns\n"
      ]
    },
    {
      "cell_type": "markdown",
      "id": "365fbebc",
      "metadata": {
        "id": "365fbebc"
      },
      "source": [
        "### Import the store file and save it as a store_details\n",
        "* After importing display the store_details"
      ]
    },
    {
      "cell_type": "code",
      "execution_count": null,
      "id": "7ccb1d77",
      "metadata": {
        "scrolled": true,
        "id": "7ccb1d77",
        "colab": {
          "base_uri": "https://localhost:8080/",
          "height": 487
        },
        "outputId": "c6b9c031-8196-47dd-8079-702d1a32f952"
      },
      "outputs": [
        {
          "output_type": "execute_result",
          "data": {
            "text/plain": [
              "      Store StoreType Assortment  CompetitionDistance  \\\n",
              "0         1         c          a               1270.0   \n",
              "1         2         a          a                570.0   \n",
              "2         3         a          a              14130.0   \n",
              "3         4         c          c                620.0   \n",
              "4         5         a          a              29910.0   \n",
              "...     ...       ...        ...                  ...   \n",
              "1110   1111         a          a               1900.0   \n",
              "1111   1112         c          c               1880.0   \n",
              "1112   1113         a          c               9260.0   \n",
              "1113   1114         a          c                870.0   \n",
              "1114   1115         d          c               5350.0   \n",
              "\n",
              "      CompetitionOpenSinceMonth  CompetitionOpenSinceYear  Promo2  \\\n",
              "0                           9.0                    2008.0       0   \n",
              "1                          11.0                    2007.0       1   \n",
              "2                          12.0                    2006.0       1   \n",
              "3                           9.0                    2009.0       0   \n",
              "4                           4.0                    2015.0       0   \n",
              "...                         ...                       ...     ...   \n",
              "1110                        6.0                    2014.0       1   \n",
              "1111                        4.0                    2006.0       0   \n",
              "1112                        NaN                       NaN       0   \n",
              "1113                        NaN                       NaN       0   \n",
              "1114                        NaN                       NaN       1   \n",
              "\n",
              "      Promo2SinceWeek  Promo2SinceYear     PromoInterval  \n",
              "0                 NaN              NaN               NaN  \n",
              "1                13.0           2010.0   Jan,Apr,Jul,Oct  \n",
              "2                14.0           2011.0   Jan,Apr,Jul,Oct  \n",
              "3                 NaN              NaN               NaN  \n",
              "4                 NaN              NaN               NaN  \n",
              "...               ...              ...               ...  \n",
              "1110             31.0           2013.0   Jan,Apr,Jul,Oct  \n",
              "1111              NaN              NaN               NaN  \n",
              "1112              NaN              NaN               NaN  \n",
              "1113              NaN              NaN               NaN  \n",
              "1114             22.0           2012.0  Mar,Jun,Sept,Dec  \n",
              "\n",
              "[1115 rows x 10 columns]"
            ],
            "text/html": [
              "\n",
              "  <div id=\"df-dcd61d7e-bac6-41e1-994f-f928141b4bf6\">\n",
              "    <div class=\"colab-df-container\">\n",
              "      <div>\n",
              "<style scoped>\n",
              "    .dataframe tbody tr th:only-of-type {\n",
              "        vertical-align: middle;\n",
              "    }\n",
              "\n",
              "    .dataframe tbody tr th {\n",
              "        vertical-align: top;\n",
              "    }\n",
              "\n",
              "    .dataframe thead th {\n",
              "        text-align: right;\n",
              "    }\n",
              "</style>\n",
              "<table border=\"1\" class=\"dataframe\">\n",
              "  <thead>\n",
              "    <tr style=\"text-align: right;\">\n",
              "      <th></th>\n",
              "      <th>Store</th>\n",
              "      <th>StoreType</th>\n",
              "      <th>Assortment</th>\n",
              "      <th>CompetitionDistance</th>\n",
              "      <th>CompetitionOpenSinceMonth</th>\n",
              "      <th>CompetitionOpenSinceYear</th>\n",
              "      <th>Promo2</th>\n",
              "      <th>Promo2SinceWeek</th>\n",
              "      <th>Promo2SinceYear</th>\n",
              "      <th>PromoInterval</th>\n",
              "    </tr>\n",
              "  </thead>\n",
              "  <tbody>\n",
              "    <tr>\n",
              "      <th>0</th>\n",
              "      <td>1</td>\n",
              "      <td>c</td>\n",
              "      <td>a</td>\n",
              "      <td>1270.0</td>\n",
              "      <td>9.0</td>\n",
              "      <td>2008.0</td>\n",
              "      <td>0</td>\n",
              "      <td>NaN</td>\n",
              "      <td>NaN</td>\n",
              "      <td>NaN</td>\n",
              "    </tr>\n",
              "    <tr>\n",
              "      <th>1</th>\n",
              "      <td>2</td>\n",
              "      <td>a</td>\n",
              "      <td>a</td>\n",
              "      <td>570.0</td>\n",
              "      <td>11.0</td>\n",
              "      <td>2007.0</td>\n",
              "      <td>1</td>\n",
              "      <td>13.0</td>\n",
              "      <td>2010.0</td>\n",
              "      <td>Jan,Apr,Jul,Oct</td>\n",
              "    </tr>\n",
              "    <tr>\n",
              "      <th>2</th>\n",
              "      <td>3</td>\n",
              "      <td>a</td>\n",
              "      <td>a</td>\n",
              "      <td>14130.0</td>\n",
              "      <td>12.0</td>\n",
              "      <td>2006.0</td>\n",
              "      <td>1</td>\n",
              "      <td>14.0</td>\n",
              "      <td>2011.0</td>\n",
              "      <td>Jan,Apr,Jul,Oct</td>\n",
              "    </tr>\n",
              "    <tr>\n",
              "      <th>3</th>\n",
              "      <td>4</td>\n",
              "      <td>c</td>\n",
              "      <td>c</td>\n",
              "      <td>620.0</td>\n",
              "      <td>9.0</td>\n",
              "      <td>2009.0</td>\n",
              "      <td>0</td>\n",
              "      <td>NaN</td>\n",
              "      <td>NaN</td>\n",
              "      <td>NaN</td>\n",
              "    </tr>\n",
              "    <tr>\n",
              "      <th>4</th>\n",
              "      <td>5</td>\n",
              "      <td>a</td>\n",
              "      <td>a</td>\n",
              "      <td>29910.0</td>\n",
              "      <td>4.0</td>\n",
              "      <td>2015.0</td>\n",
              "      <td>0</td>\n",
              "      <td>NaN</td>\n",
              "      <td>NaN</td>\n",
              "      <td>NaN</td>\n",
              "    </tr>\n",
              "    <tr>\n",
              "      <th>...</th>\n",
              "      <td>...</td>\n",
              "      <td>...</td>\n",
              "      <td>...</td>\n",
              "      <td>...</td>\n",
              "      <td>...</td>\n",
              "      <td>...</td>\n",
              "      <td>...</td>\n",
              "      <td>...</td>\n",
              "      <td>...</td>\n",
              "      <td>...</td>\n",
              "    </tr>\n",
              "    <tr>\n",
              "      <th>1110</th>\n",
              "      <td>1111</td>\n",
              "      <td>a</td>\n",
              "      <td>a</td>\n",
              "      <td>1900.0</td>\n",
              "      <td>6.0</td>\n",
              "      <td>2014.0</td>\n",
              "      <td>1</td>\n",
              "      <td>31.0</td>\n",
              "      <td>2013.0</td>\n",
              "      <td>Jan,Apr,Jul,Oct</td>\n",
              "    </tr>\n",
              "    <tr>\n",
              "      <th>1111</th>\n",
              "      <td>1112</td>\n",
              "      <td>c</td>\n",
              "      <td>c</td>\n",
              "      <td>1880.0</td>\n",
              "      <td>4.0</td>\n",
              "      <td>2006.0</td>\n",
              "      <td>0</td>\n",
              "      <td>NaN</td>\n",
              "      <td>NaN</td>\n",
              "      <td>NaN</td>\n",
              "    </tr>\n",
              "    <tr>\n",
              "      <th>1112</th>\n",
              "      <td>1113</td>\n",
              "      <td>a</td>\n",
              "      <td>c</td>\n",
              "      <td>9260.0</td>\n",
              "      <td>NaN</td>\n",
              "      <td>NaN</td>\n",
              "      <td>0</td>\n",
              "      <td>NaN</td>\n",
              "      <td>NaN</td>\n",
              "      <td>NaN</td>\n",
              "    </tr>\n",
              "    <tr>\n",
              "      <th>1113</th>\n",
              "      <td>1114</td>\n",
              "      <td>a</td>\n",
              "      <td>c</td>\n",
              "      <td>870.0</td>\n",
              "      <td>NaN</td>\n",
              "      <td>NaN</td>\n",
              "      <td>0</td>\n",
              "      <td>NaN</td>\n",
              "      <td>NaN</td>\n",
              "      <td>NaN</td>\n",
              "    </tr>\n",
              "    <tr>\n",
              "      <th>1114</th>\n",
              "      <td>1115</td>\n",
              "      <td>d</td>\n",
              "      <td>c</td>\n",
              "      <td>5350.0</td>\n",
              "      <td>NaN</td>\n",
              "      <td>NaN</td>\n",
              "      <td>1</td>\n",
              "      <td>22.0</td>\n",
              "      <td>2012.0</td>\n",
              "      <td>Mar,Jun,Sept,Dec</td>\n",
              "    </tr>\n",
              "  </tbody>\n",
              "</table>\n",
              "<p>1115 rows × 10 columns</p>\n",
              "</div>\n",
              "      <button class=\"colab-df-convert\" onclick=\"convertToInteractive('df-dcd61d7e-bac6-41e1-994f-f928141b4bf6')\"\n",
              "              title=\"Convert this dataframe to an interactive table.\"\n",
              "              style=\"display:none;\">\n",
              "        \n",
              "  <svg xmlns=\"http://www.w3.org/2000/svg\" height=\"24px\"viewBox=\"0 0 24 24\"\n",
              "       width=\"24px\">\n",
              "    <path d=\"M0 0h24v24H0V0z\" fill=\"none\"/>\n",
              "    <path d=\"M18.56 5.44l.94 2.06.94-2.06 2.06-.94-2.06-.94-.94-2.06-.94 2.06-2.06.94zm-11 1L8.5 8.5l.94-2.06 2.06-.94-2.06-.94L8.5 2.5l-.94 2.06-2.06.94zm10 10l.94 2.06.94-2.06 2.06-.94-2.06-.94-.94-2.06-.94 2.06-2.06.94z\"/><path d=\"M17.41 7.96l-1.37-1.37c-.4-.4-.92-.59-1.43-.59-.52 0-1.04.2-1.43.59L10.3 9.45l-7.72 7.72c-.78.78-.78 2.05 0 2.83L4 21.41c.39.39.9.59 1.41.59.51 0 1.02-.2 1.41-.59l7.78-7.78 2.81-2.81c.8-.78.8-2.07 0-2.86zM5.41 20L4 18.59l7.72-7.72 1.47 1.35L5.41 20z\"/>\n",
              "  </svg>\n",
              "      </button>\n",
              "      \n",
              "  <style>\n",
              "    .colab-df-container {\n",
              "      display:flex;\n",
              "      flex-wrap:wrap;\n",
              "      gap: 12px;\n",
              "    }\n",
              "\n",
              "    .colab-df-convert {\n",
              "      background-color: #E8F0FE;\n",
              "      border: none;\n",
              "      border-radius: 50%;\n",
              "      cursor: pointer;\n",
              "      display: none;\n",
              "      fill: #1967D2;\n",
              "      height: 32px;\n",
              "      padding: 0 0 0 0;\n",
              "      width: 32px;\n",
              "    }\n",
              "\n",
              "    .colab-df-convert:hover {\n",
              "      background-color: #E2EBFA;\n",
              "      box-shadow: 0px 1px 2px rgba(60, 64, 67, 0.3), 0px 1px 3px 1px rgba(60, 64, 67, 0.15);\n",
              "      fill: #174EA6;\n",
              "    }\n",
              "\n",
              "    [theme=dark] .colab-df-convert {\n",
              "      background-color: #3B4455;\n",
              "      fill: #D2E3FC;\n",
              "    }\n",
              "\n",
              "    [theme=dark] .colab-df-convert:hover {\n",
              "      background-color: #434B5C;\n",
              "      box-shadow: 0px 1px 3px 1px rgba(0, 0, 0, 0.15);\n",
              "      filter: drop-shadow(0px 1px 2px rgba(0, 0, 0, 0.3));\n",
              "      fill: #FFFFFF;\n",
              "    }\n",
              "  </style>\n",
              "\n",
              "      <script>\n",
              "        const buttonEl =\n",
              "          document.querySelector('#df-dcd61d7e-bac6-41e1-994f-f928141b4bf6 button.colab-df-convert');\n",
              "        buttonEl.style.display =\n",
              "          google.colab.kernel.accessAllowed ? 'block' : 'none';\n",
              "\n",
              "        async function convertToInteractive(key) {\n",
              "          const element = document.querySelector('#df-dcd61d7e-bac6-41e1-994f-f928141b4bf6');\n",
              "          const dataTable =\n",
              "            await google.colab.kernel.invokeFunction('convertToInteractive',\n",
              "                                                     [key], {});\n",
              "          if (!dataTable) return;\n",
              "\n",
              "          const docLinkHtml = 'Like what you see? Visit the ' +\n",
              "            '<a target=\"_blank\" href=https://colab.research.google.com/notebooks/data_table.ipynb>data table notebook</a>'\n",
              "            + ' to learn more about interactive tables.';\n",
              "          element.innerHTML = '';\n",
              "          dataTable['output_type'] = 'display_data';\n",
              "          await google.colab.output.renderOutput(dataTable, element);\n",
              "          const docLink = document.createElement('div');\n",
              "          docLink.innerHTML = docLinkHtml;\n",
              "          element.appendChild(docLink);\n",
              "        }\n",
              "      </script>\n",
              "    </div>\n",
              "  </div>\n",
              "  "
            ]
          },
          "metadata": {},
          "execution_count": 2
        }
      ],
      "source": [
        "# This is the data which contains details of the store\n",
        "store_details = pd.read_csv('/content/store.csv')\n",
        "\n",
        "store_details"
      ]
    },
    {
      "cell_type": "markdown",
      "id": "09965d66",
      "metadata": {
        "id": "09965d66"
      },
      "source": [
        "### Lets look at the training data set\n",
        "* There are 2 files (train and test) you can either split the train data and execute the model or use the test data to evaluate the model"
      ]
    },
    {
      "cell_type": "markdown",
      "id": "315fc73b",
      "metadata": {
        "id": "315fc73b"
      },
      "source": [
        "#### Import the train data and diplay its features\n",
        "* Import it as train_data"
      ]
    },
    {
      "cell_type": "code",
      "execution_count": null,
      "id": "eee9f92d",
      "metadata": {
        "id": "eee9f92d",
        "colab": {
          "base_uri": "https://localhost:8080/",
          "height": 478
        },
        "outputId": "e8ec7271-9b94-41d0-fa55-600da2cb1ccf"
      },
      "outputs": [
        {
          "output_type": "stream",
          "name": "stderr",
          "text": [
            "/usr/local/lib/python3.7/dist-packages/IPython/core/interactiveshell.py:2882: DtypeWarning: Columns (7) have mixed types.Specify dtype option on import or set low_memory=False.\n",
            "  exec(code_obj, self.user_global_ns, self.user_ns)\n"
          ]
        },
        {
          "output_type": "execute_result",
          "data": {
            "text/plain": [
              "         Store  DayOfWeek        Date  Sales  Customers  Open  Promo  \\\n",
              "0            1          5  2015-07-31   5263        555     1      1   \n",
              "1            2          5  2015-07-31   6064        625     1      1   \n",
              "2            3          5  2015-07-31   8314        821     1      1   \n",
              "3            4          5  2015-07-31  13995       1498     1      1   \n",
              "4            5          5  2015-07-31   4822        559     1      1   \n",
              "...        ...        ...         ...    ...        ...   ...    ...   \n",
              "1017204   1111          2  2013-01-01      0          0     0      0   \n",
              "1017205   1112          2  2013-01-01      0          0     0      0   \n",
              "1017206   1113          2  2013-01-01      0          0     0      0   \n",
              "1017207   1114          2  2013-01-01      0          0     0      0   \n",
              "1017208   1115          2  2013-01-01      0          0     0      0   \n",
              "\n",
              "        StateHoliday  SchoolHoliday  \n",
              "0                  0              1  \n",
              "1                  0              1  \n",
              "2                  0              1  \n",
              "3                  0              1  \n",
              "4                  0              1  \n",
              "...              ...            ...  \n",
              "1017204            a              1  \n",
              "1017205            a              1  \n",
              "1017206            a              1  \n",
              "1017207            a              1  \n",
              "1017208            a              1  \n",
              "\n",
              "[1017209 rows x 9 columns]"
            ],
            "text/html": [
              "\n",
              "  <div id=\"df-79ef9bb9-878b-483d-b0bf-e6861189140c\">\n",
              "    <div class=\"colab-df-container\">\n",
              "      <div>\n",
              "<style scoped>\n",
              "    .dataframe tbody tr th:only-of-type {\n",
              "        vertical-align: middle;\n",
              "    }\n",
              "\n",
              "    .dataframe tbody tr th {\n",
              "        vertical-align: top;\n",
              "    }\n",
              "\n",
              "    .dataframe thead th {\n",
              "        text-align: right;\n",
              "    }\n",
              "</style>\n",
              "<table border=\"1\" class=\"dataframe\">\n",
              "  <thead>\n",
              "    <tr style=\"text-align: right;\">\n",
              "      <th></th>\n",
              "      <th>Store</th>\n",
              "      <th>DayOfWeek</th>\n",
              "      <th>Date</th>\n",
              "      <th>Sales</th>\n",
              "      <th>Customers</th>\n",
              "      <th>Open</th>\n",
              "      <th>Promo</th>\n",
              "      <th>StateHoliday</th>\n",
              "      <th>SchoolHoliday</th>\n",
              "    </tr>\n",
              "  </thead>\n",
              "  <tbody>\n",
              "    <tr>\n",
              "      <th>0</th>\n",
              "      <td>1</td>\n",
              "      <td>5</td>\n",
              "      <td>2015-07-31</td>\n",
              "      <td>5263</td>\n",
              "      <td>555</td>\n",
              "      <td>1</td>\n",
              "      <td>1</td>\n",
              "      <td>0</td>\n",
              "      <td>1</td>\n",
              "    </tr>\n",
              "    <tr>\n",
              "      <th>1</th>\n",
              "      <td>2</td>\n",
              "      <td>5</td>\n",
              "      <td>2015-07-31</td>\n",
              "      <td>6064</td>\n",
              "      <td>625</td>\n",
              "      <td>1</td>\n",
              "      <td>1</td>\n",
              "      <td>0</td>\n",
              "      <td>1</td>\n",
              "    </tr>\n",
              "    <tr>\n",
              "      <th>2</th>\n",
              "      <td>3</td>\n",
              "      <td>5</td>\n",
              "      <td>2015-07-31</td>\n",
              "      <td>8314</td>\n",
              "      <td>821</td>\n",
              "      <td>1</td>\n",
              "      <td>1</td>\n",
              "      <td>0</td>\n",
              "      <td>1</td>\n",
              "    </tr>\n",
              "    <tr>\n",
              "      <th>3</th>\n",
              "      <td>4</td>\n",
              "      <td>5</td>\n",
              "      <td>2015-07-31</td>\n",
              "      <td>13995</td>\n",
              "      <td>1498</td>\n",
              "      <td>1</td>\n",
              "      <td>1</td>\n",
              "      <td>0</td>\n",
              "      <td>1</td>\n",
              "    </tr>\n",
              "    <tr>\n",
              "      <th>4</th>\n",
              "      <td>5</td>\n",
              "      <td>5</td>\n",
              "      <td>2015-07-31</td>\n",
              "      <td>4822</td>\n",
              "      <td>559</td>\n",
              "      <td>1</td>\n",
              "      <td>1</td>\n",
              "      <td>0</td>\n",
              "      <td>1</td>\n",
              "    </tr>\n",
              "    <tr>\n",
              "      <th>...</th>\n",
              "      <td>...</td>\n",
              "      <td>...</td>\n",
              "      <td>...</td>\n",
              "      <td>...</td>\n",
              "      <td>...</td>\n",
              "      <td>...</td>\n",
              "      <td>...</td>\n",
              "      <td>...</td>\n",
              "      <td>...</td>\n",
              "    </tr>\n",
              "    <tr>\n",
              "      <th>1017204</th>\n",
              "      <td>1111</td>\n",
              "      <td>2</td>\n",
              "      <td>2013-01-01</td>\n",
              "      <td>0</td>\n",
              "      <td>0</td>\n",
              "      <td>0</td>\n",
              "      <td>0</td>\n",
              "      <td>a</td>\n",
              "      <td>1</td>\n",
              "    </tr>\n",
              "    <tr>\n",
              "      <th>1017205</th>\n",
              "      <td>1112</td>\n",
              "      <td>2</td>\n",
              "      <td>2013-01-01</td>\n",
              "      <td>0</td>\n",
              "      <td>0</td>\n",
              "      <td>0</td>\n",
              "      <td>0</td>\n",
              "      <td>a</td>\n",
              "      <td>1</td>\n",
              "    </tr>\n",
              "    <tr>\n",
              "      <th>1017206</th>\n",
              "      <td>1113</td>\n",
              "      <td>2</td>\n",
              "      <td>2013-01-01</td>\n",
              "      <td>0</td>\n",
              "      <td>0</td>\n",
              "      <td>0</td>\n",
              "      <td>0</td>\n",
              "      <td>a</td>\n",
              "      <td>1</td>\n",
              "    </tr>\n",
              "    <tr>\n",
              "      <th>1017207</th>\n",
              "      <td>1114</td>\n",
              "      <td>2</td>\n",
              "      <td>2013-01-01</td>\n",
              "      <td>0</td>\n",
              "      <td>0</td>\n",
              "      <td>0</td>\n",
              "      <td>0</td>\n",
              "      <td>a</td>\n",
              "      <td>1</td>\n",
              "    </tr>\n",
              "    <tr>\n",
              "      <th>1017208</th>\n",
              "      <td>1115</td>\n",
              "      <td>2</td>\n",
              "      <td>2013-01-01</td>\n",
              "      <td>0</td>\n",
              "      <td>0</td>\n",
              "      <td>0</td>\n",
              "      <td>0</td>\n",
              "      <td>a</td>\n",
              "      <td>1</td>\n",
              "    </tr>\n",
              "  </tbody>\n",
              "</table>\n",
              "<p>1017209 rows × 9 columns</p>\n",
              "</div>\n",
              "      <button class=\"colab-df-convert\" onclick=\"convertToInteractive('df-79ef9bb9-878b-483d-b0bf-e6861189140c')\"\n",
              "              title=\"Convert this dataframe to an interactive table.\"\n",
              "              style=\"display:none;\">\n",
              "        \n",
              "  <svg xmlns=\"http://www.w3.org/2000/svg\" height=\"24px\"viewBox=\"0 0 24 24\"\n",
              "       width=\"24px\">\n",
              "    <path d=\"M0 0h24v24H0V0z\" fill=\"none\"/>\n",
              "    <path d=\"M18.56 5.44l.94 2.06.94-2.06 2.06-.94-2.06-.94-.94-2.06-.94 2.06-2.06.94zm-11 1L8.5 8.5l.94-2.06 2.06-.94-2.06-.94L8.5 2.5l-.94 2.06-2.06.94zm10 10l.94 2.06.94-2.06 2.06-.94-2.06-.94-.94-2.06-.94 2.06-2.06.94z\"/><path d=\"M17.41 7.96l-1.37-1.37c-.4-.4-.92-.59-1.43-.59-.52 0-1.04.2-1.43.59L10.3 9.45l-7.72 7.72c-.78.78-.78 2.05 0 2.83L4 21.41c.39.39.9.59 1.41.59.51 0 1.02-.2 1.41-.59l7.78-7.78 2.81-2.81c.8-.78.8-2.07 0-2.86zM5.41 20L4 18.59l7.72-7.72 1.47 1.35L5.41 20z\"/>\n",
              "  </svg>\n",
              "      </button>\n",
              "      \n",
              "  <style>\n",
              "    .colab-df-container {\n",
              "      display:flex;\n",
              "      flex-wrap:wrap;\n",
              "      gap: 12px;\n",
              "    }\n",
              "\n",
              "    .colab-df-convert {\n",
              "      background-color: #E8F0FE;\n",
              "      border: none;\n",
              "      border-radius: 50%;\n",
              "      cursor: pointer;\n",
              "      display: none;\n",
              "      fill: #1967D2;\n",
              "      height: 32px;\n",
              "      padding: 0 0 0 0;\n",
              "      width: 32px;\n",
              "    }\n",
              "\n",
              "    .colab-df-convert:hover {\n",
              "      background-color: #E2EBFA;\n",
              "      box-shadow: 0px 1px 2px rgba(60, 64, 67, 0.3), 0px 1px 3px 1px rgba(60, 64, 67, 0.15);\n",
              "      fill: #174EA6;\n",
              "    }\n",
              "\n",
              "    [theme=dark] .colab-df-convert {\n",
              "      background-color: #3B4455;\n",
              "      fill: #D2E3FC;\n",
              "    }\n",
              "\n",
              "    [theme=dark] .colab-df-convert:hover {\n",
              "      background-color: #434B5C;\n",
              "      box-shadow: 0px 1px 3px 1px rgba(0, 0, 0, 0.15);\n",
              "      filter: drop-shadow(0px 1px 2px rgba(0, 0, 0, 0.3));\n",
              "      fill: #FFFFFF;\n",
              "    }\n",
              "  </style>\n",
              "\n",
              "      <script>\n",
              "        const buttonEl =\n",
              "          document.querySelector('#df-79ef9bb9-878b-483d-b0bf-e6861189140c button.colab-df-convert');\n",
              "        buttonEl.style.display =\n",
              "          google.colab.kernel.accessAllowed ? 'block' : 'none';\n",
              "\n",
              "        async function convertToInteractive(key) {\n",
              "          const element = document.querySelector('#df-79ef9bb9-878b-483d-b0bf-e6861189140c');\n",
              "          const dataTable =\n",
              "            await google.colab.kernel.invokeFunction('convertToInteractive',\n",
              "                                                     [key], {});\n",
              "          if (!dataTable) return;\n",
              "\n",
              "          const docLinkHtml = 'Like what you see? Visit the ' +\n",
              "            '<a target=\"_blank\" href=https://colab.research.google.com/notebooks/data_table.ipynb>data table notebook</a>'\n",
              "            + ' to learn more about interactive tables.';\n",
              "          element.innerHTML = '';\n",
              "          dataTable['output_type'] = 'display_data';\n",
              "          await google.colab.output.renderOutput(dataTable, element);\n",
              "          const docLink = document.createElement('div');\n",
              "          docLink.innerHTML = docLinkHtml;\n",
              "          element.appendChild(docLink);\n",
              "        }\n",
              "      </script>\n",
              "    </div>\n",
              "  </div>\n",
              "  "
            ]
          },
          "metadata": {},
          "execution_count": 11
        }
      ],
      "source": [
        "# This is the data which contains store details\n",
        "train_data = pd.read_csv('/content/train.csv')\n",
        "train_data"
      ]
    },
    {
      "cell_type": "code",
      "source": [
        "set(store_details.columns).intersection(set(train_data.columns))"
      ],
      "metadata": {
        "colab": {
          "base_uri": "https://localhost:8080/"
        },
        "id": "9oBQNjRBC724",
        "outputId": "aef70b86-8bbc-4b00-f3ef-055d5bbc7f89"
      },
      "id": "9oBQNjRBC724",
      "execution_count": null,
      "outputs": [
        {
          "output_type": "execute_result",
          "data": {
            "text/plain": [
              "{'Store'}"
            ]
          },
          "metadata": {},
          "execution_count": 6
        }
      ]
    },
    {
      "cell_type": "markdown",
      "id": "428d19ad",
      "metadata": {
        "id": "428d19ad"
      },
      "source": [
        "### Now we have the store data and the train data we need to merge the data sets to create a combined data set\n",
        "\n",
        "* We see that the store ID is common hence  we can merge the data set on it.\n",
        "* Merge the store_details and train_data into combined_data"
      ]
    },
    {
      "cell_type": "code",
      "execution_count": null,
      "id": "800ec90c",
      "metadata": {
        "id": "800ec90c",
        "colab": {
          "base_uri": "https://localhost:8080/",
          "height": 357
        },
        "outputId": "86e41de6-8490-4882-c823-06f9014bcb69"
      },
      "outputs": [
        {
          "output_type": "execute_result",
          "data": {
            "text/plain": [
              "   Store StoreType Assortment  CompetitionDistance  CompetitionOpenSinceMonth  \\\n",
              "0      1         c          a               1270.0                        9.0   \n",
              "1      1         c          a               1270.0                        9.0   \n",
              "2      1         c          a               1270.0                        9.0   \n",
              "3      1         c          a               1270.0                        9.0   \n",
              "4      1         c          a               1270.0                        9.0   \n",
              "\n",
              "   CompetitionOpenSinceYear  Promo2  Promo2SinceWeek  Promo2SinceYear  \\\n",
              "0                    2008.0       0              NaN              NaN   \n",
              "1                    2008.0       0              NaN              NaN   \n",
              "2                    2008.0       0              NaN              NaN   \n",
              "3                    2008.0       0              NaN              NaN   \n",
              "4                    2008.0       0              NaN              NaN   \n",
              "\n",
              "  PromoInterval  DayOfWeek        Date  Sales  Customers  Open  Promo  \\\n",
              "0           NaN          5  2015-07-31   5263        555     1      1   \n",
              "1           NaN          4  2015-07-30   5020        546     1      1   \n",
              "2           NaN          3  2015-07-29   4782        523     1      1   \n",
              "3           NaN          2  2015-07-28   5011        560     1      1   \n",
              "4           NaN          1  2015-07-27   6102        612     1      1   \n",
              "\n",
              "  StateHoliday  SchoolHoliday  \n",
              "0            0              1  \n",
              "1            0              1  \n",
              "2            0              1  \n",
              "3            0              1  \n",
              "4            0              1  "
            ],
            "text/html": [
              "\n",
              "  <div id=\"df-5abc5ed7-7f0b-4757-be6c-e93802f0d452\">\n",
              "    <div class=\"colab-df-container\">\n",
              "      <div>\n",
              "<style scoped>\n",
              "    .dataframe tbody tr th:only-of-type {\n",
              "        vertical-align: middle;\n",
              "    }\n",
              "\n",
              "    .dataframe tbody tr th {\n",
              "        vertical-align: top;\n",
              "    }\n",
              "\n",
              "    .dataframe thead th {\n",
              "        text-align: right;\n",
              "    }\n",
              "</style>\n",
              "<table border=\"1\" class=\"dataframe\">\n",
              "  <thead>\n",
              "    <tr style=\"text-align: right;\">\n",
              "      <th></th>\n",
              "      <th>Store</th>\n",
              "      <th>StoreType</th>\n",
              "      <th>Assortment</th>\n",
              "      <th>CompetitionDistance</th>\n",
              "      <th>CompetitionOpenSinceMonth</th>\n",
              "      <th>CompetitionOpenSinceYear</th>\n",
              "      <th>Promo2</th>\n",
              "      <th>Promo2SinceWeek</th>\n",
              "      <th>Promo2SinceYear</th>\n",
              "      <th>PromoInterval</th>\n",
              "      <th>DayOfWeek</th>\n",
              "      <th>Date</th>\n",
              "      <th>Sales</th>\n",
              "      <th>Customers</th>\n",
              "      <th>Open</th>\n",
              "      <th>Promo</th>\n",
              "      <th>StateHoliday</th>\n",
              "      <th>SchoolHoliday</th>\n",
              "    </tr>\n",
              "  </thead>\n",
              "  <tbody>\n",
              "    <tr>\n",
              "      <th>0</th>\n",
              "      <td>1</td>\n",
              "      <td>c</td>\n",
              "      <td>a</td>\n",
              "      <td>1270.0</td>\n",
              "      <td>9.0</td>\n",
              "      <td>2008.0</td>\n",
              "      <td>0</td>\n",
              "      <td>NaN</td>\n",
              "      <td>NaN</td>\n",
              "      <td>NaN</td>\n",
              "      <td>5</td>\n",
              "      <td>2015-07-31</td>\n",
              "      <td>5263</td>\n",
              "      <td>555</td>\n",
              "      <td>1</td>\n",
              "      <td>1</td>\n",
              "      <td>0</td>\n",
              "      <td>1</td>\n",
              "    </tr>\n",
              "    <tr>\n",
              "      <th>1</th>\n",
              "      <td>1</td>\n",
              "      <td>c</td>\n",
              "      <td>a</td>\n",
              "      <td>1270.0</td>\n",
              "      <td>9.0</td>\n",
              "      <td>2008.0</td>\n",
              "      <td>0</td>\n",
              "      <td>NaN</td>\n",
              "      <td>NaN</td>\n",
              "      <td>NaN</td>\n",
              "      <td>4</td>\n",
              "      <td>2015-07-30</td>\n",
              "      <td>5020</td>\n",
              "      <td>546</td>\n",
              "      <td>1</td>\n",
              "      <td>1</td>\n",
              "      <td>0</td>\n",
              "      <td>1</td>\n",
              "    </tr>\n",
              "    <tr>\n",
              "      <th>2</th>\n",
              "      <td>1</td>\n",
              "      <td>c</td>\n",
              "      <td>a</td>\n",
              "      <td>1270.0</td>\n",
              "      <td>9.0</td>\n",
              "      <td>2008.0</td>\n",
              "      <td>0</td>\n",
              "      <td>NaN</td>\n",
              "      <td>NaN</td>\n",
              "      <td>NaN</td>\n",
              "      <td>3</td>\n",
              "      <td>2015-07-29</td>\n",
              "      <td>4782</td>\n",
              "      <td>523</td>\n",
              "      <td>1</td>\n",
              "      <td>1</td>\n",
              "      <td>0</td>\n",
              "      <td>1</td>\n",
              "    </tr>\n",
              "    <tr>\n",
              "      <th>3</th>\n",
              "      <td>1</td>\n",
              "      <td>c</td>\n",
              "      <td>a</td>\n",
              "      <td>1270.0</td>\n",
              "      <td>9.0</td>\n",
              "      <td>2008.0</td>\n",
              "      <td>0</td>\n",
              "      <td>NaN</td>\n",
              "      <td>NaN</td>\n",
              "      <td>NaN</td>\n",
              "      <td>2</td>\n",
              "      <td>2015-07-28</td>\n",
              "      <td>5011</td>\n",
              "      <td>560</td>\n",
              "      <td>1</td>\n",
              "      <td>1</td>\n",
              "      <td>0</td>\n",
              "      <td>1</td>\n",
              "    </tr>\n",
              "    <tr>\n",
              "      <th>4</th>\n",
              "      <td>1</td>\n",
              "      <td>c</td>\n",
              "      <td>a</td>\n",
              "      <td>1270.0</td>\n",
              "      <td>9.0</td>\n",
              "      <td>2008.0</td>\n",
              "      <td>0</td>\n",
              "      <td>NaN</td>\n",
              "      <td>NaN</td>\n",
              "      <td>NaN</td>\n",
              "      <td>1</td>\n",
              "      <td>2015-07-27</td>\n",
              "      <td>6102</td>\n",
              "      <td>612</td>\n",
              "      <td>1</td>\n",
              "      <td>1</td>\n",
              "      <td>0</td>\n",
              "      <td>1</td>\n",
              "    </tr>\n",
              "  </tbody>\n",
              "</table>\n",
              "</div>\n",
              "      <button class=\"colab-df-convert\" onclick=\"convertToInteractive('df-5abc5ed7-7f0b-4757-be6c-e93802f0d452')\"\n",
              "              title=\"Convert this dataframe to an interactive table.\"\n",
              "              style=\"display:none;\">\n",
              "        \n",
              "  <svg xmlns=\"http://www.w3.org/2000/svg\" height=\"24px\"viewBox=\"0 0 24 24\"\n",
              "       width=\"24px\">\n",
              "    <path d=\"M0 0h24v24H0V0z\" fill=\"none\"/>\n",
              "    <path d=\"M18.56 5.44l.94 2.06.94-2.06 2.06-.94-2.06-.94-.94-2.06-.94 2.06-2.06.94zm-11 1L8.5 8.5l.94-2.06 2.06-.94-2.06-.94L8.5 2.5l-.94 2.06-2.06.94zm10 10l.94 2.06.94-2.06 2.06-.94-2.06-.94-.94-2.06-.94 2.06-2.06.94z\"/><path d=\"M17.41 7.96l-1.37-1.37c-.4-.4-.92-.59-1.43-.59-.52 0-1.04.2-1.43.59L10.3 9.45l-7.72 7.72c-.78.78-.78 2.05 0 2.83L4 21.41c.39.39.9.59 1.41.59.51 0 1.02-.2 1.41-.59l7.78-7.78 2.81-2.81c.8-.78.8-2.07 0-2.86zM5.41 20L4 18.59l7.72-7.72 1.47 1.35L5.41 20z\"/>\n",
              "  </svg>\n",
              "      </button>\n",
              "      \n",
              "  <style>\n",
              "    .colab-df-container {\n",
              "      display:flex;\n",
              "      flex-wrap:wrap;\n",
              "      gap: 12px;\n",
              "    }\n",
              "\n",
              "    .colab-df-convert {\n",
              "      background-color: #E8F0FE;\n",
              "      border: none;\n",
              "      border-radius: 50%;\n",
              "      cursor: pointer;\n",
              "      display: none;\n",
              "      fill: #1967D2;\n",
              "      height: 32px;\n",
              "      padding: 0 0 0 0;\n",
              "      width: 32px;\n",
              "    }\n",
              "\n",
              "    .colab-df-convert:hover {\n",
              "      background-color: #E2EBFA;\n",
              "      box-shadow: 0px 1px 2px rgba(60, 64, 67, 0.3), 0px 1px 3px 1px rgba(60, 64, 67, 0.15);\n",
              "      fill: #174EA6;\n",
              "    }\n",
              "\n",
              "    [theme=dark] .colab-df-convert {\n",
              "      background-color: #3B4455;\n",
              "      fill: #D2E3FC;\n",
              "    }\n",
              "\n",
              "    [theme=dark] .colab-df-convert:hover {\n",
              "      background-color: #434B5C;\n",
              "      box-shadow: 0px 1px 3px 1px rgba(0, 0, 0, 0.15);\n",
              "      filter: drop-shadow(0px 1px 2px rgba(0, 0, 0, 0.3));\n",
              "      fill: #FFFFFF;\n",
              "    }\n",
              "  </style>\n",
              "\n",
              "      <script>\n",
              "        const buttonEl =\n",
              "          document.querySelector('#df-5abc5ed7-7f0b-4757-be6c-e93802f0d452 button.colab-df-convert');\n",
              "        buttonEl.style.display =\n",
              "          google.colab.kernel.accessAllowed ? 'block' : 'none';\n",
              "\n",
              "        async function convertToInteractive(key) {\n",
              "          const element = document.querySelector('#df-5abc5ed7-7f0b-4757-be6c-e93802f0d452');\n",
              "          const dataTable =\n",
              "            await google.colab.kernel.invokeFunction('convertToInteractive',\n",
              "                                                     [key], {});\n",
              "          if (!dataTable) return;\n",
              "\n",
              "          const docLinkHtml = 'Like what you see? Visit the ' +\n",
              "            '<a target=\"_blank\" href=https://colab.research.google.com/notebooks/data_table.ipynb>data table notebook</a>'\n",
              "            + ' to learn more about interactive tables.';\n",
              "          element.innerHTML = '';\n",
              "          dataTable['output_type'] = 'display_data';\n",
              "          await google.colab.output.renderOutput(dataTable, element);\n",
              "          const docLink = document.createElement('div');\n",
              "          docLink.innerHTML = docLinkHtml;\n",
              "          element.appendChild(docLink);\n",
              "        }\n",
              "      </script>\n",
              "    </div>\n",
              "  </div>\n",
              "  "
            ]
          },
          "metadata": {},
          "execution_count": 12
        }
      ],
      "source": [
        "# merged our train data and store details data based on store number to get complete info for each store\n",
        "\n",
        "combined_data = pd.merge(store_details, train_data, on = 'Store')\n",
        "\n",
        "\n",
        "# Write a code to display the head of the combined data.\n",
        "combined_data.head()\n"
      ]
    },
    {
      "cell_type": "code",
      "execution_count": null,
      "id": "f94b8b6b",
      "metadata": {
        "id": "f94b8b6b",
        "colab": {
          "base_uri": "https://localhost:8080/"
        },
        "outputId": "6c8b8b08-22ca-4c2b-f5de-0010c9a4deed"
      },
      "outputs": [
        {
          "output_type": "execute_result",
          "data": {
            "text/plain": [
              "(1017209, 18)"
            ]
          },
          "metadata": {},
          "execution_count": 13
        }
      ],
      "source": [
        "# Write a code to display the shape of the combined data.\n",
        "combined_data.shape"
      ]
    },
    {
      "cell_type": "markdown",
      "id": "1842c571",
      "metadata": {
        "id": "1842c571"
      },
      "source": [
        "# Data Exploration"
      ]
    },
    {
      "cell_type": "markdown",
      "id": "1b7ce121",
      "metadata": {
        "id": "1b7ce121"
      },
      "source": [
        "* First lets have a look if we have any missing values in the data set"
      ]
    },
    {
      "cell_type": "code",
      "execution_count": null,
      "id": "d5bb491a",
      "metadata": {
        "scrolled": true,
        "id": "d5bb491a",
        "colab": {
          "base_uri": "https://localhost:8080/"
        },
        "outputId": "e8526410-e6cc-487f-9826-cf9e674e7a44"
      },
      "outputs": [
        {
          "output_type": "stream",
          "name": "stdout",
          "text": [
            "Total size of dataset:  1017209\n"
          ]
        },
        {
          "output_type": "execute_result",
          "data": {
            "text/plain": [
              "Store                             0\n",
              "StoreType                         0\n",
              "Assortment                        0\n",
              "CompetitionDistance            2642\n",
              "CompetitionOpenSinceMonth    323348\n",
              "CompetitionOpenSinceYear     323348\n",
              "Promo2                            0\n",
              "Promo2SinceWeek              508031\n",
              "Promo2SinceYear              508031\n",
              "PromoInterval                508031\n",
              "DayOfWeek                         0\n",
              "Date                              0\n",
              "Sales                             0\n",
              "Customers                         0\n",
              "Open                              0\n",
              "Promo                             0\n",
              "StateHoliday                      0\n",
              "SchoolHoliday                     0\n",
              "dtype: int64"
            ]
          },
          "metadata": {},
          "execution_count": 14
        }
      ],
      "source": [
        "# Check weather there are any null values in the combined_data set\n",
        "\n",
        "print(\"Total size of dataset: \", len(combined_data))\n",
        "\n",
        "# Write a code to check the null values of the combined_data\n",
        "combined_data.isnull().sum()\n"
      ]
    },
    {
      "cell_type": "code",
      "source": [
        "combined_data.info()"
      ],
      "metadata": {
        "colab": {
          "base_uri": "https://localhost:8080/"
        },
        "id": "OBVHl__zD2Ew",
        "outputId": "24b1aa58-2bc6-410b-aaec-8f869b672bee"
      },
      "id": "OBVHl__zD2Ew",
      "execution_count": null,
      "outputs": [
        {
          "output_type": "stream",
          "name": "stdout",
          "text": [
            "<class 'pandas.core.frame.DataFrame'>\n",
            "Int64Index: 1017209 entries, 0 to 1017208\n",
            "Data columns (total 18 columns):\n",
            " #   Column                     Non-Null Count    Dtype  \n",
            "---  ------                     --------------    -----  \n",
            " 0   Store                      1017209 non-null  int64  \n",
            " 1   StoreType                  1017209 non-null  object \n",
            " 2   Assortment                 1017209 non-null  object \n",
            " 3   CompetitionDistance        1014567 non-null  float64\n",
            " 4   CompetitionOpenSinceMonth  693861 non-null   float64\n",
            " 5   CompetitionOpenSinceYear   693861 non-null   float64\n",
            " 6   Promo2                     1017209 non-null  int64  \n",
            " 7   Promo2SinceWeek            509178 non-null   float64\n",
            " 8   Promo2SinceYear            509178 non-null   float64\n",
            " 9   PromoInterval              509178 non-null   object \n",
            " 10  DayOfWeek                  1017209 non-null  int64  \n",
            " 11  Date                       1017209 non-null  object \n",
            " 12  Sales                      1017209 non-null  int64  \n",
            " 13  Customers                  1017209 non-null  int64  \n",
            " 14  Open                       1017209 non-null  int64  \n",
            " 15  Promo                      1017209 non-null  int64  \n",
            " 16  StateHoliday               1017209 non-null  object \n",
            " 17  SchoolHoliday              1017209 non-null  int64  \n",
            "dtypes: float64(5), int64(8), object(5)\n",
            "memory usage: 147.5+ MB\n"
          ]
        }
      ]
    },
    {
      "cell_type": "markdown",
      "id": "16e50cbb",
      "metadata": {
        "id": "16e50cbb"
      },
      "source": [
        "#### Lets look at what are the unique values at the data set"
      ]
    },
    {
      "cell_type": "code",
      "execution_count": null,
      "id": "538c3638",
      "metadata": {
        "id": "538c3638",
        "colab": {
          "base_uri": "https://localhost:8080/"
        },
        "outputId": "c1f8487b-d7c4-472d-c089-3e6cf8599316"
      },
      "outputs": [
        {
          "output_type": "stream",
          "name": "stdout",
          "text": [
            "Store --------> [   1    2    3 ... 1113 1114 1115]\n",
            "StoreType --------> ['c' 'a' 'd' 'b']\n",
            "Assortment --------> ['a' 'c' 'b']\n",
            "CompetitionOpenSinceMonth --------> [ 9. 11. 12.  4. 10.  8. nan  3.  6.  5.  1.  2.  7.]\n",
            "CompetitionOpenSinceYear --------> [2008. 2007. 2006. 2009. 2015. 2013. 2014. 2000. 2011.   nan 2010. 2005.\n",
            " 1999. 2003. 2012. 2004. 2002. 1961. 1995. 2001. 1990. 1994. 1900. 1998.]\n",
            "Promo2 --------> [0 1]\n",
            "Promo2SinceWeek --------> [nan 13. 14.  1. 45. 40. 26. 22.  5.  6. 10. 31. 37.  9. 39. 27. 18. 35.\n",
            " 23. 48. 36. 50. 44. 49. 28.]\n",
            "Promo2SinceYear --------> [  nan 2010. 2011. 2012. 2009. 2014. 2015. 2013.]\n",
            "PromoInterval --------> [nan 'Jan,Apr,Jul,Oct' 'Feb,May,Aug,Nov' 'Mar,Jun,Sept,Dec']\n",
            "DayOfWeek --------> [5 4 3 2 1 7 6]\n",
            "Sales --------> [ 5263  5020  4782 ... 20362 18841 21237]\n",
            "Customers --------> [ 555  546  523 ... 3727 4022 4106]\n",
            "Open --------> [1 0]\n",
            "Promo --------> [1 0]\n",
            "StateHoliday --------> ['0' 'a' 'b' 'c' 0]\n",
            "SchoolHoliday --------> [1 0]\n"
          ]
        }
      ],
      "source": [
        "# Check weather there are any unique values in the data set\n",
        "columns = list(combined_data.columns) # Storing the columns as a list\n",
        "columns.remove('Date')                # Removing the date because the unique values in the date will be all the dates\n",
        "columns.remove('CompetitionDistance') # Removing the CompettionDistance as all the values in the distance are unique.\n",
        "for col in columns:                   # Printing the columns with respect to their unique values using for loop\n",
        "    print(col,\"-------->\",combined_data[col].unique())"
      ]
    },
    {
      "cell_type": "markdown",
      "id": "ff63eddc",
      "metadata": {
        "id": "ff63eddc"
      },
      "source": [
        "### List some of the unique values present in the dataset that makes the model more understadable\n",
        "*\n",
        "*\n",
        "*\n",
        "*\n",
        "*\n"
      ]
    },
    {
      "cell_type": "markdown",
      "id": "6d1ab9fb",
      "metadata": {
        "id": "6d1ab9fb"
      },
      "source": [
        "#### From here we can extract the year and the month from the date column that we have to do some visualization"
      ]
    },
    {
      "cell_type": "code",
      "execution_count": null,
      "id": "41c22f33",
      "metadata": {
        "id": "41c22f33",
        "colab": {
          "base_uri": "https://localhost:8080/",
          "height": 295
        },
        "outputId": "da7d2f1c-83f2-43f1-9794-f0a472ad852b"
      },
      "outputs": [
        {
          "output_type": "display_data",
          "data": {
            "text/plain": [
              "<Figure size 432x288 with 1 Axes>"
            ],
            "image/png": "[encoded data removed]"
          },
          "metadata": {
            "needs_background": "light"
          }
        }
      ],
      "source": [
        "# extracting year and month from Date (You can use any function to retrieve the year and the month)\n",
        "combined_data['Year']  = combined_data['Date'].apply(lambda x: int(str(x)[:4])) # You can see the index of year is B/W 0-4\n",
        "# Write a code to extract month from the date, Trick: You can copy the same line but just change the index value\n",
        "combined_data['Month'] =combined_data['Date'].apply(lambda x: int(str(x)[5:7]))\n",
        "\n",
        "# Plot a bar graph of Sales with respect to year\n",
        "sns.barplot(x='Year', y='Sales', data=combined_data).set(title='Year vs Sales') # define the x and y variables to plot the graph\n",
        "\n",
        "#print the plot\n",
        "plt.show()"
      ]
    },
    {
      "cell_type": "markdown",
      "id": "18e6e6bb",
      "metadata": {
        "id": "18e6e6bb"
      },
      "source": [
        "# Visualization\n",
        "### Here we can try to understand the data more by different visualizations"
      ]
    },
    {
      "cell_type": "markdown",
      "id": "bc9429ac",
      "metadata": {
        "id": "bc9429ac"
      },
      "source": [
        "#### Lets see Sales with respect to week"
      ]
    },
    {
      "cell_type": "code",
      "execution_count": null,
      "id": "44f9fe20",
      "metadata": {
        "id": "44f9fe20",
        "colab": {
          "base_uri": "https://localhost:8080/",
          "height": 295
        },
        "outputId": "2fade640-1b63-4633-d671-0103a6e96fd6"
      },
      "outputs": [
        {
          "output_type": "display_data",
          "data": {
            "text/plain": [
              "<Figure size 432x288 with 1 Axes>"
            ],
            "image/png": "[encoded data removed]"
          },
          "metadata": {
            "needs_background": "light"
          }
        }
      ],
      "source": [
        "# Sales with respect to week\n",
        "\n",
        "#Write the code to plot the bargraph with respect to sales and week\n",
        "sns.barplot(x='DayOfWeek', y='Sales', data=combined_data).set(title='Week vs Sales')\n",
        "plt.show()"
      ]
    },
    {
      "cell_type": "markdown",
      "id": "9cf593f5",
      "metadata": {
        "id": "9cf593f5"
      },
      "source": [
        "#### Lets see Sales with respect to Promo's"
      ]
    },
    {
      "cell_type": "code",
      "execution_count": null,
      "id": "827779ba",
      "metadata": {
        "id": "827779ba",
        "colab": {
          "base_uri": "https://localhost:8080/",
          "height": 295
        },
        "outputId": "eacf1a22-0050-481e-df1a-05215f8cf891"
      },
      "outputs": [
        {
          "output_type": "display_data",
          "data": {
            "text/plain": [
              "<Figure size 432x288 with 1 Axes>"
            ],
            "image/png": "[encoded data removed]"
          },
          "metadata": {
            "needs_background": "light"
          }
        }
      ],
      "source": [
        "# Sales with respect to Promo\n",
        "\n",
        "#Write the code to plot the bargraph with respect to sales and promo\n",
        "sns.barplot(x='Promo', y='Sales', data=combined_data).set(title='Promo vs Sales')\n",
        "plt.show()"
      ]
    },
    {
      "cell_type": "markdown",
      "id": "4145c7d4",
      "metadata": {
        "id": "4145c7d4"
      },
      "source": [
        "#### Lets see if a state holiday has an impact on our sales"
      ]
    },
    {
      "cell_type": "code",
      "execution_count": null,
      "id": "374e9aae",
      "metadata": {
        "id": "374e9aae",
        "colab": {
          "base_uri": "https://localhost:8080/",
          "height": 402
        },
        "outputId": "68dacafd-536e-4f45-e2ff-601105a96881"
      },
      "outputs": [
        {
          "output_type": "stream",
          "name": "stderr",
          "text": [
            "/usr/local/lib/python3.7/dist-packages/pandas/core/indexing.py:1732: SettingWithCopyWarning: \n",
            "A value is trying to be set on a copy of a slice from a DataFrame\n",
            "\n",
            "See the caveats in the documentation: https://pandas.pydata.org/pandas-docs/stable/user_guide/indexing.html#returning-a-view-versus-a-copy\n",
            "  self._setitem_single_block(indexer, value, name)\n"
          ]
        },
        {
          "output_type": "display_data",
          "data": {
            "text/plain": [
              "<Figure size 432x288 with 1 Axes>"
            ],
            "image/png": "[encoded data removed]"
          },
          "metadata": {
            "needs_background": "light"
          }
        }
      ],
      "source": [
        "# StateHoliday column has values 0 & \"0\", So, we need to change values with 0 to \"0\"\n",
        "combined_data[\"StateHoliday\"].loc[combined_data[\"StateHoliday\"] == 0] = \"0\"\n",
        "\n",
        "# Sales with respect to State Holiday\n",
        "sns.barplot(x='StateHoliday', y='Sales', data=combined_data).set(title='State Holiday vs Sales')\n",
        "plt.show()"
      ]
    },
    {
      "cell_type": "markdown",
      "id": "d66a5eef",
      "metadata": {
        "id": "d66a5eef"
      },
      "source": [
        "#### Lets see if a school holidays has an impact on our sales"
      ]
    },
    {
      "cell_type": "code",
      "execution_count": null,
      "id": "4924af6f",
      "metadata": {
        "id": "4924af6f"
      },
      "outputs": [],
      "source": [
        "# Sales with respect to School Holiday\n",
        "combined_data[\"StateHoliday\"].loc[combined_data[\"StateHoliday\"] == 0] = \"0\"\n",
        "#Here we are converting the numeric 0 into a str \"0\"\n",
        "# .loc function locks replaces the value of 0 with \"0\"\n",
        "\n",
        "# Sales with respect to State Holiday\n",
        "\n",
        "#Write the code to plot the bargraph with respect to sales and state holiday\n",
        "\n",
        "plt.show()\n"
      ]
    },
    {
      "cell_type": "code",
      "source": [
        "# Try to plot sales with respect to School Holiday\n",
        "sns.barplot(x='SchoolHoliday', y='Sales', data=combined_data).set(title='School Holiday vs Sales')\n",
        "plt.show()"
      ],
      "metadata": {
        "colab": {
          "base_uri": "https://localhost:8080/",
          "height": 295
        },
        "id": "2Rm3IFbGLmyk",
        "outputId": "0d02d040-2c10-45a1-8783-50441c9f95da"
      },
      "id": "2Rm3IFbGLmyk",
      "execution_count": null,
      "outputs": [
        {
          "output_type": "display_data",
          "data": {
            "text/plain": [
              "<Figure size 432x288 with 1 Axes>"
            ],
            "image/png": "[encoded data removed]"
          },
          "metadata": {
            "needs_background": "light"
          }
        }
      ]
    },
    {
      "cell_type": "markdown",
      "id": "e3809057",
      "metadata": {
        "id": "e3809057"
      },
      "source": [
        "### Explain the reason to convert the numeric 0 into \"0\"\n",
        "\n",
        "*\n",
        "*"
      ]
    },
    {
      "cell_type": "markdown",
      "id": "a7aa0ccc",
      "metadata": {
        "id": "a7aa0ccc"
      },
      "source": [
        "### Lets look at the data store wise"
      ]
    },
    {
      "cell_type": "code",
      "execution_count": null,
      "id": "d8c9b93d",
      "metadata": {
        "id": "d8c9b93d",
        "colab": {
          "base_uri": "https://localhost:8080/",
          "height": 295
        },
        "outputId": "de40f075-f77d-4c53-82f9-abe1bed89b77"
      },
      "outputs": [
        {
          "output_type": "display_data",
          "data": {
            "text/plain": [
              "<Figure size 432x288 with 1 Axes>"
            ],
            "image/png": "[encoded data removed]"
          },
          "metadata": {
            "needs_background": "light"
          }
        }
      ],
      "source": [
        "# Sales with respect to StoreType\n",
        "\n",
        "#Write the code to plot the bargraph with respect to sales and storetype\n",
        "sns.barplot(x='StoreType', y='Sales', data=combined_data).set(title='StoreType vs Sales')\n",
        "plt.show()"
      ]
    },
    {
      "cell_type": "markdown",
      "id": "aef0bade",
      "metadata": {
        "id": "aef0bade"
      },
      "source": [
        "### Lets look at the data Assortment wise"
      ]
    },
    {
      "cell_type": "code",
      "execution_count": null,
      "id": "cc8dd049",
      "metadata": {
        "id": "cc8dd049",
        "colab": {
          "base_uri": "https://localhost:8080/",
          "height": 295
        },
        "outputId": "619485fd-f058-473c-e76e-cf6df01aa586"
      },
      "outputs": [
        {
          "output_type": "display_data",
          "data": {
            "text/plain": [
              "<Figure size 432x288 with 1 Axes>"
            ],
            "image/png": "[encoded data removed]"
          },
          "metadata": {
            "needs_background": "light"
          }
        }
      ],
      "source": [
        "# Sales with respect to Assortment\n",
        "\n",
        "#Write the code to plot the bargraph with respect to sales and Assortment\n",
        "sns.barplot(x='Assortment', y='Sales', data=combined_data).set(title='Assortment vs Sales')\n",
        "plt.show()"
      ]
    },
    {
      "cell_type": "markdown",
      "id": "6a3d7780",
      "metadata": {
        "id": "6a3d7780"
      },
      "source": [
        "## Please write what did we understand by our visualization?\n",
        "\n",
        "*\n",
        "*\n",
        "*\n",
        "*\n",
        "*\n",
        "\n"
      ]
    },
    {
      "cell_type": "markdown",
      "id": "a42d7cef",
      "metadata": {
        "id": "a42d7cef"
      },
      "source": [
        "### Filling the missing values"
      ]
    },
    {
      "cell_type": "code",
      "execution_count": null,
      "id": "c0d2b61f",
      "metadata": {
        "id": "c0d2b61f",
        "colab": {
          "base_uri": "https://localhost:8080/"
        },
        "outputId": "48e9dfbf-6956-4539-dc2c-72616c58a328"
      },
      "outputs": [
        {
          "output_type": "execute_result",
          "data": {
            "text/plain": [
              "Store                          0\n",
              "StoreType                      0\n",
              "Assortment                     0\n",
              "CompetitionDistance            3\n",
              "CompetitionOpenSinceMonth    354\n",
              "CompetitionOpenSinceYear     354\n",
              "Promo2                         0\n",
              "Promo2SinceWeek              544\n",
              "Promo2SinceYear              544\n",
              "PromoInterval                544\n",
              "dtype: int64"
            ]
          },
          "metadata": {},
          "execution_count": 25
        }
      ],
      "source": [
        "# Write a code to Check if there are any missing values in the store_data\n",
        "store_details.isnull().sum()"
      ]
    },
    {
      "cell_type": "code",
      "execution_count": null,
      "id": "e0042318",
      "metadata": {
        "id": "e0042318",
        "colab": {
          "base_uri": "https://localhost:8080/"
        },
        "outputId": "d3d36649-e678-4d7c-85e2-b8209d08ab72"
      },
      "outputs": [
        {
          "output_type": "execute_result",
          "data": {
            "text/plain": [
              "Store            0\n",
              "DayOfWeek        0\n",
              "Date             0\n",
              "Sales            0\n",
              "Customers        0\n",
              "Open             0\n",
              "Promo            0\n",
              "StateHoliday     0\n",
              "SchoolHoliday    0\n",
              "dtype: int64"
            ]
          },
          "metadata": {},
          "execution_count": 26
        }
      ],
      "source": [
        "# Write a code to Check if there are any missing values in the train_data\n",
        "train_data.isnull().sum()"
      ]
    },
    {
      "cell_type": "markdown",
      "id": "b23e926e",
      "metadata": {
        "id": "b23e926e"
      },
      "source": [
        "### Fill the missing values in the store_data\n",
        "#### There are different methods we can use to fill the missing values in the data, But we have to decide which method we can use."
      ]
    },
    {
      "cell_type": "code",
      "execution_count": null,
      "id": "a0380c33",
      "metadata": {
        "id": "a0380c33"
      },
      "outputs": [],
      "source": [
        "# Filling Promo2SinceWeek, Promo2SinceYear, PromoInterval with 0\n",
        "## Write a code to fill the above columns with 0\n",
        "store_details.update(store_details[['Promo2SinceWeek','Promo2SinceYear','PromoInterval']].fillna(0))"
      ]
    },
    {
      "cell_type": "code",
      "execution_count": null,
      "id": "f20f428f",
      "metadata": {
        "id": "f20f428f"
      },
      "outputs": [],
      "source": [
        "# Filling CompetitionDistance with mean distance\n",
        "## Write a code to fill the null values in competition distance column by taking the mean\n",
        "\n",
        "mean_competition_distance = store_details['CompetitionDistance'].mean()\n",
        "store_details['CompetitionDistance'].fillna(mean_competition_distance, inplace=True)"
      ]
    },
    {
      "cell_type": "code",
      "execution_count": null,
      "id": "35f5319b",
      "metadata": {
        "id": "35f5319b",
        "colab": {
          "base_uri": "https://localhost:8080/"
        },
        "outputId": "1dd1ac86-886b-4805-88e9-1be4dd662153"
      },
      "outputs": [
        {
          "output_type": "stream",
          "name": "stdout",
          "text": [
            "9.0\n",
            "2013.0\n"
          ]
        }
      ],
      "source": [
        "# Filling CompetitionOpenSinceMonth, CompetitionOpenSinceYear with most occuring month and year respectively with mode\n",
        "mode_competition_open_month = store_details['CompetitionOpenSinceMonth'].mode()[0]\n",
        "print(mode_competition_open_month)\n",
        "\n",
        "mode_competition_open_year = store_details['CompetitionOpenSinceYear'].mode()[0]\n",
        "print(mode_competition_open_year)\n",
        "\n",
        "store_details['CompetitionOpenSinceMonth'].fillna(mode_competition_open_month,inplace=True)\n",
        "store_details['CompetitionOpenSinceYear'].fillna(mode_competition_open_year,inplace=True)"
      ]
    },
    {
      "cell_type": "code",
      "execution_count": null,
      "id": "7223d2c7",
      "metadata": {
        "id": "7223d2c7",
        "colab": {
          "base_uri": "https://localhost:8080/"
        },
        "outputId": "bbc87221-acde-431f-fb85-eaeb0f42392e"
      },
      "outputs": [
        {
          "output_type": "execute_result",
          "data": {
            "text/plain": [
              "Store                        0\n",
              "StoreType                    0\n",
              "Assortment                   0\n",
              "CompetitionDistance          0\n",
              "CompetitionOpenSinceMonth    0\n",
              "CompetitionOpenSinceYear     0\n",
              "Promo2                       0\n",
              "Promo2SinceWeek              0\n",
              "Promo2SinceYear              0\n",
              "PromoInterval                0\n",
              "dtype: int64"
            ]
          },
          "metadata": {},
          "execution_count": 34
        }
      ],
      "source": [
        "## Write a code to check if all the null values are filled\n",
        "\n",
        "store_details.isnull().sum()"
      ]
    },
    {
      "cell_type": "markdown",
      "id": "116fbd53",
      "metadata": {
        "id": "116fbd53"
      },
      "source": [
        "### Merge the store_data and train_data after filling the missing values"
      ]
    },
    {
      "cell_type": "code",
      "execution_count": null,
      "id": "0a1eabfa",
      "metadata": {
        "id": "0a1eabfa",
        "colab": {
          "base_uri": "https://localhost:8080/",
          "height": 357
        },
        "outputId": "466551ef-17c7-4785-c556-9486837b872a"
      },
      "outputs": [
        {
          "output_type": "execute_result",
          "data": {
            "text/plain": [
              "   Store  DayOfWeek        Date  Sales  Customers  Open  Promo StateHoliday  \\\n",
              "0      1          5  2015-07-31   5263        555     1      1            0   \n",
              "1      1          4  2015-07-30   5020        546     1      1            0   \n",
              "2      1          3  2015-07-29   4782        523     1      1            0   \n",
              "3      1          2  2015-07-28   5011        560     1      1            0   \n",
              "4      1          1  2015-07-27   6102        612     1      1            0   \n",
              "\n",
              "   SchoolHoliday StoreType Assortment  CompetitionDistance  \\\n",
              "0              1         c          a               1270.0   \n",
              "1              1         c          a               1270.0   \n",
              "2              1         c          a               1270.0   \n",
              "3              1         c          a               1270.0   \n",
              "4              1         c          a               1270.0   \n",
              "\n",
              "   CompetitionOpenSinceMonth  CompetitionOpenSinceYear  Promo2  \\\n",
              "0                        9.0                    2008.0       0   \n",
              "1                        9.0                    2008.0       0   \n",
              "2                        9.0                    2008.0       0   \n",
              "3                        9.0                    2008.0       0   \n",
              "4                        9.0                    2008.0       0   \n",
              "\n",
              "   Promo2SinceWeek  Promo2SinceYear PromoInterval  \n",
              "0              0.0              0.0             0  \n",
              "1              0.0              0.0             0  \n",
              "2              0.0              0.0             0  \n",
              "3              0.0              0.0             0  \n",
              "4              0.0              0.0             0  "
            ],
            "text/html": [
              "\n",
              "  <div id=\"df-906306c8-bcc2-4f8d-a085-928357ed1a46\">\n",
              "    <div class=\"colab-df-container\">\n",
              "      <div>\n",
              "<style scoped>\n",
              "    .dataframe tbody tr th:only-of-type {\n",
              "        vertical-align: middle;\n",
              "    }\n",
              "\n",
              "    .dataframe tbody tr th {\n",
              "        vertical-align: top;\n",
              "    }\n",
              "\n",
              "    .dataframe thead th {\n",
              "        text-align: right;\n",
              "    }\n",
              "</style>\n",
              "<table border=\"1\" class=\"dataframe\">\n",
              "  <thead>\n",
              "    <tr style=\"text-align: right;\">\n",
              "      <th></th>\n",
              "      <th>Store</th>\n",
              "      <th>DayOfWeek</th>\n",
              "      <th>Date</th>\n",
              "      <th>Sales</th>\n",
              "      <th>Customers</th>\n",
              "      <th>Open</th>\n",
              "      <th>Promo</th>\n",
              "      <th>StateHoliday</th>\n",
              "      <th>SchoolHoliday</th>\n",
              "      <th>StoreType</th>\n",
              "      <th>Assortment</th>\n",
              "      <th>CompetitionDistance</th>\n",
              "      <th>CompetitionOpenSinceMonth</th>\n",
              "      <th>CompetitionOpenSinceYear</th>\n",
              "      <th>Promo2</th>\n",
              "      <th>Promo2SinceWeek</th>\n",
              "      <th>Promo2SinceYear</th>\n",
              "      <th>PromoInterval</th>\n",
              "    </tr>\n",
              "  </thead>\n",
              "  <tbody>\n",
              "    <tr>\n",
              "      <th>0</th>\n",
              "      <td>1</td>\n",
              "      <td>5</td>\n",
              "      <td>2015-07-31</td>\n",
              "      <td>5263</td>\n",
              "      <td>555</td>\n",
              "      <td>1</td>\n",
              "      <td>1</td>\n",
              "      <td>0</td>\n",
              "      <td>1</td>\n",
              "      <td>c</td>\n",
              "      <td>a</td>\n",
              "      <td>1270.0</td>\n",
              "      <td>9.0</td>\n",
              "      <td>2008.0</td>\n",
              "      <td>0</td>\n",
              "      <td>0.0</td>\n",
              "      <td>0.0</td>\n",
              "      <td>0</td>\n",
              "    </tr>\n",
              "    <tr>\n",
              "      <th>1</th>\n",
              "      <td>1</td>\n",
              "      <td>4</td>\n",
              "      <td>2015-07-30</td>\n",
              "      <td>5020</td>\n",
              "      <td>546</td>\n",
              "      <td>1</td>\n",
              "      <td>1</td>\n",
              "      <td>0</td>\n",
              "      <td>1</td>\n",
              "      <td>c</td>\n",
              "      <td>a</td>\n",
              "      <td>1270.0</td>\n",
              "      <td>9.0</td>\n",
              "      <td>2008.0</td>\n",
              "      <td>0</td>\n",
              "      <td>0.0</td>\n",
              "      <td>0.0</td>\n",
              "      <td>0</td>\n",
              "    </tr>\n",
              "    <tr>\n",
              "      <th>2</th>\n",
              "      <td>1</td>\n",
              "      <td>3</td>\n",
              "      <td>2015-07-29</td>\n",
              "      <td>4782</td>\n",
              "      <td>523</td>\n",
              "      <td>1</td>\n",
              "      <td>1</td>\n",
              "      <td>0</td>\n",
              "      <td>1</td>\n",
              "      <td>c</td>\n",
              "      <td>a</td>\n",
              "      <td>1270.0</td>\n",
              "      <td>9.0</td>\n",
              "      <td>2008.0</td>\n",
              "      <td>0</td>\n",
              "      <td>0.0</td>\n",
              "      <td>0.0</td>\n",
              "      <td>0</td>\n",
              "    </tr>\n",
              "    <tr>\n",
              "      <th>3</th>\n",
              "      <td>1</td>\n",
              "      <td>2</td>\n",
              "      <td>2015-07-28</td>\n",
              "      <td>5011</td>\n",
              "      <td>560</td>\n",
              "      <td>1</td>\n",
              "      <td>1</td>\n",
              "      <td>0</td>\n",
              "      <td>1</td>\n",
              "      <td>c</td>\n",
              "      <td>a</td>\n",
              "      <td>1270.0</td>\n",
              "      <td>9.0</td>\n",
              "      <td>2008.0</td>\n",
              "      <td>0</td>\n",
              "      <td>0.0</td>\n",
              "      <td>0.0</td>\n",
              "      <td>0</td>\n",
              "    </tr>\n",
              "    <tr>\n",
              "      <th>4</th>\n",
              "      <td>1</td>\n",
              "      <td>1</td>\n",
              "      <td>2015-07-27</td>\n",
              "      <td>6102</td>\n",
              "      <td>612</td>\n",
              "      <td>1</td>\n",
              "      <td>1</td>\n",
              "      <td>0</td>\n",
              "      <td>1</td>\n",
              "      <td>c</td>\n",
              "      <td>a</td>\n",
              "      <td>1270.0</td>\n",
              "      <td>9.0</td>\n",
              "      <td>2008.0</td>\n",
              "      <td>0</td>\n",
              "      <td>0.0</td>\n",
              "      <td>0.0</td>\n",
              "      <td>0</td>\n",
              "    </tr>\n",
              "  </tbody>\n",
              "</table>\n",
              "</div>\n",
              "      <button class=\"colab-df-convert\" onclick=\"convertToInteractive('df-906306c8-bcc2-4f8d-a085-928357ed1a46')\"\n",
              "              title=\"Convert this dataframe to an interactive table.\"\n",
              "              style=\"display:none;\">\n",
              "        \n",
              "  <svg xmlns=\"http://www.w3.org/2000/svg\" height=\"24px\"viewBox=\"0 0 24 24\"\n",
              "       width=\"24px\">\n",
              "    <path d=\"M0 0h24v24H0V0z\" fill=\"none\"/>\n",
              "    <path d=\"M18.56 5.44l.94 2.06.94-2.06 2.06-.94-2.06-.94-.94-2.06-.94 2.06-2.06.94zm-11 1L8.5 8.5l.94-2.06 2.06-.94-2.06-.94L8.5 2.5l-.94 2.06-2.06.94zm10 10l.94 2.06.94-2.06 2.06-.94-2.06-.94-.94-2.06-.94 2.06-2.06.94z\"/><path d=\"M17.41 7.96l-1.37-1.37c-.4-.4-.92-.59-1.43-.59-.52 0-1.04.2-1.43.59L10.3 9.45l-7.72 7.72c-.78.78-.78 2.05 0 2.83L4 21.41c.39.39.9.59 1.41.59.51 0 1.02-.2 1.41-.59l7.78-7.78 2.81-2.81c.8-.78.8-2.07 0-2.86zM5.41 20L4 18.59l7.72-7.72 1.47 1.35L5.41 20z\"/>\n",
              "  </svg>\n",
              "      </button>\n",
              "      \n",
              "  <style>\n",
              "    .colab-df-container {\n",
              "      display:flex;\n",
              "      flex-wrap:wrap;\n",
              "      gap: 12px;\n",
              "    }\n",
              "\n",
              "    .colab-df-convert {\n",
              "      background-color: #E8F0FE;\n",
              "      border: none;\n",
              "      border-radius: 50%;\n",
              "      cursor: pointer;\n",
              "      display: none;\n",
              "      fill: #1967D2;\n",
              "      height: 32px;\n",
              "      padding: 0 0 0 0;\n",
              "      width: 32px;\n",
              "    }\n",
              "\n",
              "    .colab-df-convert:hover {\n",
              "      background-color: #E2EBFA;\n",
              "      box-shadow: 0px 1px 2px rgba(60, 64, 67, 0.3), 0px 1px 3px 1px rgba(60, 64, 67, 0.15);\n",
              "      fill: #174EA6;\n",
              "    }\n",
              "\n",
              "    [theme=dark] .colab-df-convert {\n",
              "      background-color: #3B4455;\n",
              "      fill: #D2E3FC;\n",
              "    }\n",
              "\n",
              "    [theme=dark] .colab-df-convert:hover {\n",
              "      background-color: #434B5C;\n",
              "      box-shadow: 0px 1px 3px 1px rgba(0, 0, 0, 0.15);\n",
              "      filter: drop-shadow(0px 1px 2px rgba(0, 0, 0, 0.3));\n",
              "      fill: #FFFFFF;\n",
              "    }\n",
              "  </style>\n",
              "\n",
              "      <script>\n",
              "        const buttonEl =\n",
              "          document.querySelector('#df-906306c8-bcc2-4f8d-a085-928357ed1a46 button.colab-df-convert');\n",
              "        buttonEl.style.display =\n",
              "          google.colab.kernel.accessAllowed ? 'block' : 'none';\n",
              "\n",
              "        async function convertToInteractive(key) {\n",
              "          const element = document.querySelector('#df-906306c8-bcc2-4f8d-a085-928357ed1a46');\n",
              "          const dataTable =\n",
              "            await google.colab.kernel.invokeFunction('convertToInteractive',\n",
              "                                                     [key], {});\n",
              "          if (!dataTable) return;\n",
              "\n",
              "          const docLinkHtml = 'Like what you see? Visit the ' +\n",
              "            '<a target=\"_blank\" href=https://colab.research.google.com/notebooks/data_table.ipynb>data table notebook</a>'\n",
              "            + ' to learn more about interactive tables.';\n",
              "          element.innerHTML = '';\n",
              "          dataTable['output_type'] = 'display_data';\n",
              "          await google.colab.output.renderOutput(dataTable, element);\n",
              "          const docLink = document.createElement('div');\n",
              "          docLink.innerHTML = docLinkHtml;\n",
              "          element.appendChild(docLink);\n",
              "        }\n",
              "      </script>\n",
              "    </div>\n",
              "  </div>\n",
              "  "
            ]
          },
          "metadata": {},
          "execution_count": 33
        }
      ],
      "source": [
        "# Write a code to merge the store and the train on store again.\n",
        "\n",
        "# Write a code to display the head of the combined data.\n",
        "# merging the data again\n",
        "combined_data = pd.merge(train_data, store_details, on='Store')\n",
        "# We need to merge it because we have filled the null values in store data\n",
        "combined_data.head()"
      ]
    },
    {
      "cell_type": "code",
      "execution_count": null,
      "id": "2402d67b",
      "metadata": {
        "id": "2402d67b",
        "colab": {
          "base_uri": "https://localhost:8080/"
        },
        "outputId": "bfe29e2f-29d8-4d86-ee2b-861b2617cc94"
      },
      "outputs": [
        {
          "output_type": "execute_result",
          "data": {
            "text/plain": [
              "Store                        0\n",
              "DayOfWeek                    0\n",
              "Date                         0\n",
              "Sales                        0\n",
              "Customers                    0\n",
              "Open                         0\n",
              "Promo                        0\n",
              "StateHoliday                 0\n",
              "SchoolHoliday                0\n",
              "StoreType                    0\n",
              "Assortment                   0\n",
              "CompetitionDistance          0\n",
              "CompetitionOpenSinceMonth    0\n",
              "CompetitionOpenSinceYear     0\n",
              "Promo2                       0\n",
              "Promo2SinceWeek              0\n",
              "Promo2SinceYear              0\n",
              "PromoInterval                0\n",
              "dtype: int64"
            ]
          },
          "metadata": {},
          "execution_count": 35
        }
      ],
      "source": [
        "# Write a code to check if there are any null values left.\n",
        "combined_data.isnull().sum()"
      ]
    },
    {
      "cell_type": "markdown",
      "id": "567d4a4d",
      "metadata": {
        "id": "567d4a4d"
      },
      "source": [
        "## Understanding sales VS Competition Distance"
      ]
    },
    {
      "cell_type": "code",
      "execution_count": null,
      "id": "dae7c3b1",
      "metadata": {
        "id": "dae7c3b1",
        "colab": {
          "base_uri": "https://localhost:8080/",
          "height": 312
        },
        "outputId": "48390806-4ab3-47a0-9547-8cb9ffac877f"
      },
      "outputs": [
        {
          "output_type": "execute_result",
          "data": {
            "text/plain": [
              "<matplotlib.axes._subplots.AxesSubplot at 0x7f524bc02810>"
            ]
          },
          "metadata": {},
          "execution_count": 36
        },
        {
          "output_type": "display_data",
          "data": {
            "text/plain": [
              "<Figure size 1080x288 with 1 Axes>"
            ],
            "image/png": "[encoded data removed]"
          },
          "metadata": {
            "needs_background": "light"
          }
        }
      ],
      "source": [
        "combined_data.plot(kind='scatter',x='CompetitionDistance',y='Sales',figsize=(15,4),title=\"Sales vs CompetitionDistance\")"
      ]
    },
    {
      "cell_type": "markdown",
      "id": "182088b3",
      "metadata": {
        "id": "182088b3"
      },
      "source": [
        "### Please write the details which you have understood with the above graph\n",
        "\n",
        "*\n",
        "*\n",
        "*\n",
        "*"
      ]
    },
    {
      "cell_type": "markdown",
      "id": "bfd108d9",
      "metadata": {
        "id": "bfd108d9"
      },
      "source": [
        "## Dealing with Outliers\n",
        "\n",
        "* Here we can use sns.displot\n",
        "* Set bins around 50 for clear visualization\n",
        "* Plot it in the combined_data\n",
        "* Place the x variable as \"Sales\""
      ]
    },
    {
      "cell_type": "code",
      "execution_count": null,
      "id": "ec09134a",
      "metadata": {
        "id": "ec09134a"
      },
      "outputs": [],
      "source": [
        "# Check if there is any outliers present in the data\n"
      ]
    },
    {
      "cell_type": "code",
      "execution_count": null,
      "id": "02458be9",
      "metadata": {
        "id": "02458be9"
      },
      "outputs": [],
      "source": []
    },
    {
      "cell_type": "markdown",
      "id": "2d45d841",
      "metadata": {
        "id": "2d45d841"
      },
      "source": [
        "#### There are different methods to remove the outliers\n",
        "* Name them\n",
        "* And state the reason for selecting the particular method"
      ]
    },
    {
      "cell_type": "code",
      "execution_count": null,
      "id": "abf8e6a2",
      "metadata": {
        "id": "abf8e6a2"
      },
      "outputs": [],
      "source": [
        "# Name the different outliers removal method and give the reason for selecting your method"
      ]
    },
    {
      "cell_type": "code",
      "execution_count": null,
      "id": "161192a7",
      "metadata": {
        "id": "161192a7"
      },
      "outputs": [],
      "source": [
        "# Write a code to remove the outliers"
      ]
    },
    {
      "cell_type": "code",
      "execution_count": null,
      "id": "775612ec",
      "metadata": {
        "id": "775612ec"
      },
      "outputs": [],
      "source": [
        "# Write a code to plot the graph of the outliers removed"
      ]
    },
    {
      "cell_type": "markdown",
      "id": "bab0aed6",
      "metadata": {
        "id": "bab0aed6"
      },
      "source": [
        "### Exceptional cases"
      ]
    },
    {
      "cell_type": "markdown",
      "id": "ae10dd9f",
      "metadata": {
        "id": "ae10dd9f"
      },
      "source": [
        "##### Looking for a scenerio where the Stores are open and yet there is no sales on that day"
      ]
    },
    {
      "cell_type": "code",
      "execution_count": null,
      "id": "79668628",
      "metadata": {
        "id": "79668628"
      },
      "outputs": [],
      "source": [
        "# Write a code to check when there is no sales even if the store is open\n",
        "no_holiday_zero_sales =\n",
        "\n",
        "print(\"Size of the data where sales were zero even when stores were open: \",len(no_holiday_zero_sales))\n",
        "no_holiday_zero_sales.head()"
      ]
    },
    {
      "cell_type": "markdown",
      "id": "ac1a56fe",
      "metadata": {
        "id": "ac1a56fe"
      },
      "source": [
        "* Remove these data point as they are an exceptional case"
      ]
    },
    {
      "cell_type": "code",
      "execution_count": null,
      "id": "bd8745b5",
      "metadata": {
        "id": "bd8745b5"
      },
      "outputs": [],
      "source": [
        "# Write a code to drop the no_holida_zero_sales\n",
        "\n",
        "\n",
        "combined_data.head()"
      ]
    },
    {
      "cell_type": "markdown",
      "id": "6c758587",
      "metadata": {
        "id": "6c758587"
      },
      "source": [
        "### Converting categorical variables to numeric\n",
        "* Name all the categorical values present in the data set\n",
        "    *\n",
        "    *\n",
        "    *\n",
        "    *\n",
        "    *\n",
        "    *\n",
        "    *\n",
        "    "
      ]
    },
    {
      "cell_type": "code",
      "execution_count": null,
      "id": "a1921f8e",
      "metadata": {
        "id": "a1921f8e"
      },
      "outputs": [],
      "source": [
        "# extracting year and month from Date\n",
        "combined_data['Year']  = combined_data['Date'].apply(lambda x: int(str(x)[:4]))\n",
        "combined_data['Month'] = combined_data['Date'].apply(lambda x: int(str(x)[5:7]))\n",
        "combined_data.drop(['Date'],axis=1,inplace=True)"
      ]
    },
    {
      "cell_type": "code",
      "execution_count": null,
      "id": "38209728",
      "metadata": {
        "id": "38209728"
      },
      "outputs": [],
      "source": [
        "# Import the preprocessing library\n",
        "\n",
        "# Write a code to save preprocessing.LabelEncoder() as label encoder\n",
        "\n",
        "# Write a code to label encodeand fit transform \"Storetype\" and \"Assortment\""
      ]
    },
    {
      "cell_type": "markdown",
      "id": "1a08453f",
      "metadata": {
        "id": "1a08453f"
      },
      "source": [
        "### For the below converting of the data you can either use for loop and append the numerical variables\n",
        "### Or else you can either use .loc method to save itf as numerical data"
      ]
    },
    {
      "cell_type": "code",
      "execution_count": null,
      "id": "6bd5920f",
      "metadata": {
        "id": "6bd5920f"
      },
      "outputs": [],
      "source": [
        "# Write a code to convert stateholiday in numerical data,\n",
        "# You can save state holiday \"a\" as 1\n",
        "# Save state holiday \"b\" as 2\n",
        "#Save state holiday \"c\" as 3"
      ]
    },
    {
      "cell_type": "code",
      "execution_count": null,
      "id": "cc5b822b",
      "metadata": {
        "id": "cc5b822b"
      },
      "outputs": [],
      "source": [
        "# Write a code to convert Promointerval as numerical data type\n",
        "# Save \"Jan,Apr,Jul,Oct\" as 1\n",
        "# Save \"Feb,May,Aug,Nov\" as 2\n",
        "# Save \"Mar,Jun,Sept,Dec\" as 3"
      ]
    },
    {
      "cell_type": "code",
      "execution_count": null,
      "id": "b77fc138",
      "metadata": {
        "id": "b77fc138"
      },
      "outputs": [],
      "source": [
        "combined_data['StateHoliday'] = pd.to_numeric(combined_data['StateHoliday'])\n",
        "combined_data['PromoInterval'] = pd.to_numeric(combined_data['PromoInterval'])"
      ]
    },
    {
      "cell_type": "markdown",
      "id": "15fa4c70",
      "metadata": {
        "id": "15fa4c70"
      },
      "source": [
        "## Checking the correlation between the different variables using heatmap"
      ]
    },
    {
      "cell_type": "code",
      "execution_count": null,
      "id": "03e082d0",
      "metadata": {
        "id": "03e082d0"
      },
      "outputs": [],
      "source": [
        "# Plot an heat map\n",
        "# Let the figure size be (20,10)\n"
      ]
    },
    {
      "cell_type": "markdown",
      "id": "2338c6f5",
      "metadata": {
        "id": "2338c6f5"
      },
      "source": [
        "What did we understand with the heat map?\n"
      ]
    },
    {
      "cell_type": "markdown",
      "id": "e1fba5e7",
      "metadata": {
        "id": "e1fba5e7"
      },
      "source": [
        "# Implementing the models\n",
        "* You'll have to find out the r2 score, Mean absolute error and root mean squared error\n",
        "* After finding out the values plot a graph between actual and the predicted values\n",
        "\n",
        "### List the different types of Machine Learning Model you can use in this data set.\n",
        "*\n",
        "*\n",
        "*\n",
        "*\n",
        "*\n"
      ]
    },
    {
      "cell_type": "code",
      "execution_count": null,
      "id": "e63ddd39",
      "metadata": {
        "id": "e63ddd39"
      },
      "outputs": [],
      "source": [
        "# Import the folowing libraries from sklearn.\n",
        "# Import train test split\n",
        "# Import r2 score\n",
        "# Import mean squared error\n",
        "# Import mean absolute error\n",
        "# Import mean percentage error\n",
        "# Import math"
      ]
    },
    {
      "cell_type": "code",
      "execution_count": null,
      "id": "265292cb",
      "metadata": {
        "id": "265292cb"
      },
      "outputs": [],
      "source": [
        "combined_data_subset = combined_data[combined_data['Open'] == 1]\n",
        "combined_data_subset_closed = combined_data[combined_data['Open'] == 0]\n",
        "\n",
        "x_train, x_test, y_train, y_test_open = train_test_split(combined_data_subset.drop(['Sales','Customers', 'Open'],axis=1),\n",
        "                                                    combined_data_subset['Sales'],test_size=0.20)"
      ]
    },
    {
      "cell_type": "code",
      "execution_count": null,
      "id": "69585455",
      "metadata": {
        "id": "69585455"
      },
      "outputs": [],
      "source": [
        "epsilon = 1e-10"
      ]
    },
    {
      "cell_type": "code",
      "execution_count": null,
      "id": "8b9a3f44",
      "metadata": {
        "id": "8b9a3f44"
      },
      "outputs": [],
      "source": [
        "# Write a code to Print the x_train columns"
      ]
    },
    {
      "cell_type": "markdown",
      "id": "0945aa86",
      "metadata": {
        "id": "0945aa86"
      },
      "source": [
        "# Linear Regression"
      ]
    },
    {
      "cell_type": "code",
      "execution_count": null,
      "id": "1e2908e0",
      "metadata": {
        "id": "1e2908e0"
      },
      "outputs": [],
      "source": [
        "# Import necessary libraries\n",
        "# Implement the model."
      ]
    },
    {
      "cell_type": "code",
      "execution_count": null,
      "id": "e1493222",
      "metadata": {
        "id": "e1493222"
      },
      "outputs": [],
      "source": [
        "# Plot the graph between Actual and Predicted values"
      ]
    },
    {
      "cell_type": "markdown",
      "id": "ecf12010",
      "metadata": {
        "id": "ecf12010"
      },
      "source": [
        "# SGD Regressor\n",
        "Stochastic Gradient Descent (SGD) is a simple yet efficient optimization algorithm used to find the values of parameters/coefficients of functions that minimize a cost function."
      ]
    },
    {
      "cell_type": "code",
      "execution_count": null,
      "id": "23e17004",
      "metadata": {
        "id": "23e17004"
      },
      "outputs": [],
      "source": [
        "# Import necessary libraries\n",
        "# Implement the model"
      ]
    },
    {
      "cell_type": "code",
      "execution_count": null,
      "id": "d9701638",
      "metadata": {
        "id": "d9701638"
      },
      "outputs": [],
      "source": [
        "# Plot the graph between Actual and Predicted values"
      ]
    },
    {
      "cell_type": "markdown",
      "id": "a430e27f",
      "metadata": {
        "id": "a430e27f"
      },
      "source": [
        "# Random Forest"
      ]
    },
    {
      "cell_type": "code",
      "execution_count": null,
      "id": "bb10c6d0",
      "metadata": {
        "id": "bb10c6d0"
      },
      "outputs": [],
      "source": [
        "# Import necessary libraries\n",
        "# Implement the model"
      ]
    },
    {
      "cell_type": "code",
      "execution_count": null,
      "id": "dedbff88",
      "metadata": {
        "id": "dedbff88"
      },
      "outputs": [],
      "source": [
        "# Plot the graph between Actual and Predicted values"
      ]
    },
    {
      "cell_type": "markdown",
      "id": "c59578be",
      "metadata": {
        "id": "c59578be"
      },
      "source": [
        "# Descision tree"
      ]
    },
    {
      "cell_type": "code",
      "execution_count": null,
      "id": "637ef91f",
      "metadata": {
        "id": "637ef91f"
      },
      "outputs": [],
      "source": [
        "# Import necessary libraries\n",
        "# Implement the model"
      ]
    },
    {
      "cell_type": "code",
      "execution_count": null,
      "id": "795de5ad",
      "metadata": {
        "id": "795de5ad"
      },
      "outputs": [],
      "source": [
        "# Plot the graph between Actual and Predicted values"
      ]
    },
    {
      "cell_type": "markdown",
      "id": "2cfb95d0",
      "metadata": {
        "id": "2cfb95d0"
      },
      "source": [
        "## Compare the r2 results and decide the best model\n",
        "\n",
        "* The r2 score of the Model should be near 0.95"
      ]
    },
    {
      "cell_type": "code",
      "execution_count": null,
      "id": "9e201a56",
      "metadata": {
        "id": "9e201a56"
      },
      "outputs": [],
      "source": []
    }
  ],
  "metadata": {
    "kernelspec": {
      "display_name": "Python 3 (ipykernel)",
      "language": "python",
      "name": "python3"
    },
    "language_info": {
      "codemirror_mode": {
        "name": "ipython",
        "version": 3
      },
      "file_extension": ".py",
      "mimetype": "text/x-python",
      "name": "python",
      "nbconvert_exporter": "python",
      "pygments_lexer": "ipython3",
      "version": "3.9.7"
    },
    "colab": {
      "provenance": []
    }
  },
  "nbformat": 4,
  "nbformat_minor": 5
}